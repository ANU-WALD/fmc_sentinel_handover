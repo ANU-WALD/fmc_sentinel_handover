{
 "cells": [
  {
   "cell_type": "code",
   "execution_count": 1,
   "metadata": {},
   "outputs": [],
   "source": [
    "%matplotlib inline\n",
    "import matplotlib.pyplot as plt\n",
    "\n",
    "import numpy as np\n",
    "import datacube\n",
    "\n",
    "dc = datacube.Datacube(app='fmc-snippet')"
   ]
  },
  {
   "cell_type": "markdown",
   "metadata": {},
   "source": [
    "### Request some sentinel 2 data"
   ]
  },
  {
   "cell_type": "code",
   "execution_count": 2,
   "metadata": {},
   "outputs": [
    {
     "data": {
      "text/html": [
       "<pre>&lt;xarray.Dataset&gt;\n",
       "Dimensions:      (time: 2, x: 405, y: 380)\n",
       "Coordinates:\n",
       "  * time         (time) datetime64[ns] 2017-01-05T00:02:12.026000 2017-01-15T00:02:11.026000\n",
       "  * y            (y) float64 -3.956e+06 -3.956e+06 ... -3.963e+06 -3.963e+06\n",
       "  * x            (x) float64 1.544e+06 1.544e+06 ... 1.552e+06 1.553e+06\n",
       "Data variables:\n",
       "    nbar_blue    (time, y, x) int16 903 863 858 824 804 ... 385 423 480 300 279\n",
       "    nbar_green   (time, y, x) int16 1051 1029 1013 987 979 ... 543 591 467 412\n",
       "    nbar_red     (time, y, x) int16 1301 1269 1249 1177 1164 ... 576 618 343 367\n",
       "    nbar_nir_1   (time, y, x) int16 2456 2350 2423 2411 ... 1550 1915 3377 2475\n",
       "    nbar_nir_2   (time, y, x) int16 2658 2536 2533 2566 ... 1848 2198 3281 3346\n",
       "    nbar_swir_2  (time, y, x) int16 2862 2780 2707 2671 ... 1490 1387 1525 1585\n",
       "    nbar_swir_3  (time, y, x) int16 1817 1732 1675 1644 1643 ... 930 846 826 761\n",
       "Attributes:\n",
       "    crs:      EPSG:3577</pre>"
      ],
      "text/plain": [
       "<xarray.Dataset>\n",
       "Dimensions:      (time: 2, x: 405, y: 380)\n",
       "Coordinates:\n",
       "  * time         (time) datetime64[ns] 2017-01-05T00:02:12.026000 2017-01-15T00:02:11.026000\n",
       "  * y            (y) float64 -3.956e+06 -3.956e+06 ... -3.963e+06 -3.963e+06\n",
       "  * x            (x) float64 1.544e+06 1.544e+06 ... 1.552e+06 1.553e+06\n",
       "Data variables:\n",
       "    nbar_blue    (time, y, x) int16 903 863 858 824 804 ... 385 423 480 300 279\n",
       "    nbar_green   (time, y, x) int16 1051 1029 1013 987 979 ... 543 591 467 412\n",
       "    nbar_red     (time, y, x) int16 1301 1269 1249 1177 1164 ... 576 618 343 367\n",
       "    nbar_nir_1   (time, y, x) int16 2456 2350 2423 2411 ... 1550 1915 3377 2475\n",
       "    nbar_nir_2   (time, y, x) int16 2658 2536 2533 2566 ... 1848 2198 3281 3346\n",
       "    nbar_swir_2  (time, y, x) int16 2862 2780 2707 2671 ... 1490 1387 1525 1585\n",
       "    nbar_swir_3  (time, y, x) int16 1817 1732 1675 1644 1643 ... 930 846 826 761\n",
       "Attributes:\n",
       "    crs:      EPSG:3577"
      ]
     },
     "execution_count": 2,
     "metadata": {},
     "output_type": "execute_result"
    }
   ],
   "source": [
    "query = {\n",
    "        'lat': (-35.27, -35.33),\n",
    "        'lon': (149.07, 149.15),\n",
    "        'output_crs': 'EPSG:3577',\n",
    "        'resolution': (-20, 20),\n",
    "        'time': ('2017-01-01', '2017-02-01'),\n",
    "        'measurements': [\"nbar_blue\",\"nbar_green\",\"nbar_red\",\n",
    "                         \"nbar_nir_1\",\"nbar_nir_2\",\"nbar_swir_2\",\n",
    "                         \"nbar_swir_3\"]\n",
    "        }\n",
    "\n",
    "cbr = dc.load(product='s2a_ard_granule', group_by='solar_day', **query)\n",
    "cbr"
   ]
  },
  {
   "cell_type": "markdown",
   "metadata": {},
   "source": [
    "### These are the two aux functions where all the magic happens (optimisations should come here I imagine)"
   ]
  },
  {
   "cell_type": "code",
   "execution_count": 3,
   "metadata": {},
   "outputs": [],
   "source": [
    "def get_fmc_functor():\n",
    "    # Load FMC table\n",
    "    fmc = np.load(\"./FMC.npy\")\n",
    "    \n",
    "    def get_fmc(idxs, fmc=fmc):\n",
    "        # Select Veg type subset from LUT table\n",
    "        mean = np.einsum('i->', fmc[idxs])/idxs.shape[0]\n",
    "        return mean, np.sqrt(np.einsum('i->',(fmc[idxs]-mean)**2)/idxs.shape[0])\n",
    "\n",
    "    return get_fmc\n",
    "\n",
    "\n",
    "def get_top_n_functor():\n",
    "    # Read the LUT table\n",
    "    lut = np.load(\"./LUT.npy\")\n",
    "    lut = lut[:, [0,1,2,3,5,6,7]]\n",
    "\n",
    "    lut_sq = np.sqrt(np.einsum('ij,ij->i',lut, lut))\n",
    "\n",
    "    def get_top_n(mb, veg_type, top_n, mat=lut, smat=lut_sq):\n",
    "        \n",
    "        #Vegetation type mocked to type 1\n",
    "        #idx = get_vegtype_idx(veg_type)\n",
    "        idx = (0, 2563)\n",
    "\n",
    "        # Select Veg type subset from LUT table\n",
    "        vmat = mat[idx[0]:idx[1], :]\n",
    "        vsmat = smat[idx[0]:idx[1]]\n",
    "\n",
    "        # This is a computational trick that results in a +2x speedup of the code\n",
    "        # arccos is a decreaing function in the [-1,1] range so we can replace this\n",
    "        # with a constant linear function as we are only interested in the relative values.\n",
    "        #err = np.arccos(np.einsum('ij,j->i', vmat, mb)/(np.einsum('i,i->', mb, mb)**.5*vsmat))\n",
    "        #err = -1*np.einsum('ij,j->i', vmat, mb)/(np.einsum('i,i->', mb, mb)**.5*vsmat)\n",
    "        err = np.einsum('ij,j->i', vmat, mb)\n",
    "\n",
    "        idxs = np.argpartition(err, top_n)[:top_n] + idx[0]\n",
    "\n",
    "        return idxs\n",
    "\n",
    "    return get_top_n"
   ]
  },
  {
   "cell_type": "markdown",
   "metadata": {},
   "source": [
    "### This is the actual function that iterates through each pixel on a multispectral cube and computes the Fuel Moisture Content values"
   ]
  },
  {
   "cell_type": "code",
   "execution_count": 4,
   "metadata": {},
   "outputs": [],
   "source": [
    "def fmc(raster_stack, q_mask, veg_type):\n",
    "    ndvi_raster = ((raster_stack[:, :, 3]-raster_stack[:, :, 2])/(raster_stack[:, :, 3]+raster_stack[:, :, 2])).values\n",
    "    raster_stack = raster_stack.values\n",
    "    # In case the mask doesn't exist\n",
    "    if q_mask is None:\n",
    "        q_mask = np.ones((raster_stack.shape[0], raster_stack.shape[1]), dtype=bool)\n",
    "\n",
    "    mean_arr = np.ones((raster_stack.shape[0], raster_stack.shape[1]), dtype=np.float32) * -9999.9\n",
    "    std_arr = np.ones((raster_stack.shape[0], raster_stack.shape[1]), dtype=np.float32) * -9999.9\n",
    "    \n",
    "    get_top_n = get_top_n_functor()\n",
    "    get_fmc = get_fmc_functor()\n",
    "    \n",
    "    for i in range(raster_stack.shape[1]):\n",
    "        for j in range(raster_stack.shape[0]):\n",
    "            #if veg_type[j, i] > 0 and ndvi_raster[j, i] > .15:\n",
    "            if ndvi_raster[j, i] > .15:\n",
    "                #top_40 = get_top_n(raster_stack[j, i, :], veg_type[j, i], 40)\n",
    "                top_40 = get_top_n(raster_stack[j, i, :], 1, 40)\n",
    "                mean_arr[j, i], std_arr[j, i] = get_fmc(top_40)\n",
    "\n",
    "    return mean_arr, std_arr\n"
   ]
  },
  {
   "cell_type": "markdown",
   "metadata": {},
   "source": [
    "### Here I'm just stacking variables in the XArray Dataset over the last axis"
   ]
  },
  {
   "cell_type": "code",
   "execution_count": 5,
   "metadata": {},
   "outputs": [],
   "source": [
    "\n",
    "# stack variables\n",
    "cbr = cbr[[\"nbar_blue\",\"nbar_green\",\"nbar_red\",\n",
    "     \"nbar_nir_1\",\"nbar_nir_2\",\"nbar_swir_2\",\n",
    "     \"nbar_swir_3\"]].isel(time=1).to_array()\n",
    "\n",
    "# move variable axis to last\n",
    "cbr = np.swapaxes(cbr, 0, -1)"
   ]
  },
  {
   "cell_type": "markdown",
   "metadata": {},
   "source": [
    "### Calling the function with our input Sentinel data. Notice Land Mask is None, we assume all pixels are classified as 1."
   ]
  },
  {
   "cell_type": "code",
   "execution_count": 8,
   "metadata": {},
   "outputs": [],
   "source": [
    "#%%timeit \n",
    "\n",
    "mean_arr, std_arr = fmc(cbr, None, None)"
   ]
  },
  {
   "cell_type": "markdown",
   "metadata": {},
   "source": [
    "### Resulting mean and standard deviation values of the computed FMC array."
   ]
  },
  {
   "cell_type": "code",
   "execution_count": 9,
   "metadata": {},
   "outputs": [
    {
     "data": {
      "text/plain": [
       "((405, 380), (405, 380))"
      ]
     },
     "execution_count": 9,
     "metadata": {},
     "output_type": "execute_result"
    }
   ],
   "source": [
    "mean_arr.shape, std_arr.shape"
   ]
  },
  {
   "cell_type": "code",
   "execution_count": 10,
   "metadata": {},
   "outputs": [
    {
     "data": {
      "text/plain": [
       "<matplotlib.image.AxesImage at 0x7fdb26995f28>"
      ]
     },
     "execution_count": 10,
     "metadata": {},
     "output_type": "execute_result"
    },
    {
     "data": {
      "image/png": "[encoded data removed]",
      "text/plain": [
       "<Figure size 432x288 with 1 Axes>"
      ]
     },
     "metadata": {
      "needs_background": "light"
     },
     "output_type": "display_data"
    }
   ],
   "source": [
    "plt.imshow(mean_arr)"
   ]
  },
  {
   "cell_type": "code",
   "execution_count": null,
   "metadata": {},
   "outputs": [],
   "source": []
  }
 ],
 "metadata": {
  "kernelspec": {
   "display_name": "Python 3",
   "language": "python",
   "name": "python3"
  },
  "language_info": {
   "codemirror_mode": {
    "name": "ipython",
    "version": 3
   },
   "file_extension": ".py",
   "mimetype": "text/x-python",
   "name": "python",
   "nbconvert_exporter": "python",
   "pygments_lexer": "ipython3",
   "version": "3.6.9"
  }
 },
 "nbformat": 4,
 "nbformat_minor": 4
}
